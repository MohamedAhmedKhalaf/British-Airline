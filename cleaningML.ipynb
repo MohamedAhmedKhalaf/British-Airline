{
 "cells": [
  {
   "cell_type": "markdown",
   "id": "78848fd6",
   "metadata": {},
   "source": [
    "# SCRAPPING THE DATASET\n",
    "### THIS CODE IS USED TO SCRAP THE DATA THEN PUT IT IN A CSV FILE SO DON'T RUN IT !!!!"
   ]
  },
  {
   "cell_type": "code",
   "execution_count": 3,
   "id": "06a39850",
   "metadata": {},
   "outputs": [],
   "source": [
    "# import numpy as np\n",
    "# import pandas as pd\n",
    "# import requests as rq\n",
    "# from bs4 import BeautifulSoup\n",
    "\n",
    "# global rating, Aircraft, Class, Travel_type, Route, Date, comfort, staff, food, entertainment, wifi, ground_service, vfm, recommend\n",
    "\n",
    "# verified = []\n",
    "# rating = []\n",
    "# feedback = []\n",
    "# Aircraft = []\n",
    "# Class = []\n",
    "# Travel_type = []\n",
    "# Route = []\n",
    "# Date = []\n",
    "# comfort = []\n",
    "# staff = []\n",
    "# food = []\n",
    "# entertainment = []\n",
    "# wifi = []\n",
    "# ground_service = []\n",
    "# vfm = []\n",
    "# recommend = []\n",
    "\n",
    "# def value_fetcher(soup):\n",
    "#     review_values = {\n",
    "#         'Aircraft': np.nan,\n",
    "#         'Type Of Traveller': np.nan,\n",
    "#         'Seat Type': np.nan,\n",
    "#         'Route': np.nan,\n",
    "#         'Date Flown': np.nan,\n",
    "#         'Seat Comfort': np.nan,\n",
    "#         'Cabin Staff Service': np.nan,\n",
    "#         'Food & Beverages': np.nan,\n",
    "#         'Inflight Entertainment': np.nan,\n",
    "#         'Wifi & Connectivity': np.nan,\n",
    "#         'Ground Service': np.nan,\n",
    "#         'Value For Money': np.nan,\n",
    "#         'Recommended': np.nan\n",
    "#     }\n",
    "\n",
    "#     for row in soup.find_all('tr'):\n",
    "#         header = row.find('td', class_='review-rating-header').text\n",
    "#         value_cell = row.find('td', class_='review-value')\n",
    "\n",
    "#         if header in review_values:\n",
    "#             if header in ['Seat Comfort', 'Cabin Staff Service', 'Food & Beverages', 'Inflight Entertainment', 'Wifi & Connectivity','Ground Service', 'Value For Money']:\n",
    "#                 review_values[header] = len(row.find_all('span', class_='star fill'))\n",
    "#             elif header == 'Recommended':\n",
    "#                 review_values[header] = value_cell.text\n",
    "#             else:\n",
    "#                  review_values[header] = value_cell.text if value_cell else np.nan\n",
    "    \n",
    "#     Aircraft.append(review_values['Aircraft'])\n",
    "#     Travel_type.append(review_values['Type Of Traveller'])\n",
    "#     Class.append(review_values['Seat Type'])\n",
    "#     Route.append(review_values['Route'])\n",
    "#     Date.append(review_values['Date Flown'])\n",
    "#     comfort.append(review_values['Seat Comfort'])\n",
    "#     staff.append(review_values['Cabin Staff Service'])\n",
    "#     food.append(review_values['Food & Beverages'])\n",
    "#     entertainment.append(review_values['Inflight Entertainment'])\n",
    "#     wifi.append(review_values['Wifi & Connectivity'])\n",
    "#     ground_service.append(review_values['Ground Service'])\n",
    "#     vfm.append(review_values['Value For Money'])\n",
    "#     recommend.append(review_values['Recommended'])\n",
    "\n",
    "\n",
    "# def fetcher(soup, tag, key, value):\n",
    "#     element = soup.find(tag, {key: value})\n",
    "#     return element.text if element else np.nan\n",
    "\n",
    "# for i in range(1, 344):\n",
    "#     url = f'https://www.airlinequality.com/airline-reviews/british-airways/page/{i}/'\n",
    "#     page = rq.get(url).text\n",
    "#     soup = BeautifulSoup(page, 'lxml')\n",
    "#     articles = soup.find_all('article', {'itemprop': 'review'})\n",
    "#     for article in articles:\n",
    "#         rating.append(fetcher(article, 'span', 'itemprop', 'ratingValue'))\n",
    "#         div = article.find('div', class_='tc_mobile')\n",
    "#         content = div.find('div', class_='text_content').text.split('|')\n",
    "#         if len(content) == 2:\n",
    "#             verification, review = content\n",
    "#         else:\n",
    "#             verification = np.nan\n",
    "#             review = content[0]\n",
    "#         verified.append(verification)\n",
    "#         feedback.append(review)\n",
    "#         table = div.find('table', class_='review-ratings')\n",
    "#         value_fetcher(table)\n",
    "\n",
    "# data = pd.DataFrame({\n",
    "#     'status': verified,\n",
    "#     'aircraft': Aircraft,\n",
    "#     'travel_type': Travel_type,\n",
    "#     'travel_class': Class,\n",
    "#     'route': Route,\n",
    "#     'date': Date,\n",
    "#     'seating_comfort': comfort,\n",
    "#     'staff_service': staff,\n",
    "#     'food_quality': food,\n",
    "#     'entertainment': entertainment,\n",
    "#     'wifi': wifi,\n",
    "#     'ground_service': ground_service,\n",
    "#     'value_for_money': vfm,\n",
    "#     'recommended': recommend,\n",
    "#     'overall_rating': rating[::], \n",
    "#     'review': feedback\n",
    "# })\n",
    "# data.to_csv('British_Airways.csv', index=False)"
   ]
  },
  {
   "cell_type": "code",
   "execution_count": 4,
   "id": "77288eef-ec2d-4de9-ae3f-dc20b46a78e9",
   "metadata": {},
   "outputs": [],
   "source": [
    "import pandas as pd\n",
    "import re\n",
    "from sklearn.impute import KNNImputer"
   ]
  },
  {
   "cell_type": "code",
   "execution_count": null,
   "id": "8b97aa62-50e5-4f55-a1e1-97d84f60410c",
   "metadata": {},
   "outputs": [
    {
     "data": {
      "text/html": [
       "<div>\n",
       "<style scoped>\n",
       "    .dataframe tbody tr th:only-of-type {\n",
       "        vertical-align: middle;\n",
       "    }\n",
       "\n",
       "    .dataframe tbody tr th {\n",
       "        vertical-align: top;\n",
       "    }\n",
       "\n",
       "    .dataframe thead th {\n",
       "        text-align: right;\n",
       "    }\n",
       "</style>\n",
       "<table border=\"1\" class=\"dataframe\">\n",
       "  <thead>\n",
       "    <tr style=\"text-align: right;\">\n",
       "      <th></th>\n",
       "      <th>status</th>\n",
       "      <th>aircraft</th>\n",
       "      <th>travel_type</th>\n",
       "      <th>travel_class</th>\n",
       "      <th>route</th>\n",
       "      <th>date</th>\n",
       "      <th>seating_comfort</th>\n",
       "      <th>staff_service</th>\n",
       "      <th>food_quality</th>\n",
       "      <th>entertainment</th>\n",
       "      <th>wifi</th>\n",
       "      <th>ground_service</th>\n",
       "      <th>value_for_money</th>\n",
       "      <th>recommended</th>\n",
       "      <th>overall_rating</th>\n",
       "      <th>review</th>\n",
       "    </tr>\n",
       "  </thead>\n",
       "  <tbody>\n",
       "    <tr>\n",
       "      <th>0</th>\n",
       "      <td>✅ Trip Verified</td>\n",
       "      <td>Boeing 777 / A350</td>\n",
       "      <td>Business</td>\n",
       "      <td>Business Class</td>\n",
       "      <td>Washington to London</td>\n",
       "      <td>December 2024</td>\n",
       "      <td>4.0</td>\n",
       "      <td>3.0</td>\n",
       "      <td>1.0</td>\n",
       "      <td>5.0</td>\n",
       "      <td>4.0</td>\n",
       "      <td>1.0</td>\n",
       "      <td>1</td>\n",
       "      <td>no</td>\n",
       "      <td>2.0</td>\n",
       "      <td>This was the first time I flew British Airw...</td>\n",
       "    </tr>\n",
       "    <tr>\n",
       "      <th>1</th>\n",
       "      <td>✅ Trip Verified</td>\n",
       "      <td>Boeing 777</td>\n",
       "      <td>Solo Leisure</td>\n",
       "      <td>Business Class</td>\n",
       "      <td>Cape Town to London</td>\n",
       "      <td>December 2024</td>\n",
       "      <td>5.0</td>\n",
       "      <td>5.0</td>\n",
       "      <td>5.0</td>\n",
       "      <td>5.0</td>\n",
       "      <td>NaN</td>\n",
       "      <td>4.0</td>\n",
       "      <td>5</td>\n",
       "      <td>yes</td>\n",
       "      <td>8.0</td>\n",
       "      <td>Pretty good flight but still some small thi...</td>\n",
       "    </tr>\n",
       "    <tr>\n",
       "      <th>2</th>\n",
       "      <td>✅ Trip Verified</td>\n",
       "      <td>Boeing 787</td>\n",
       "      <td>Solo Leisure</td>\n",
       "      <td>First Class</td>\n",
       "      <td>Mexico City to London Heathrow</td>\n",
       "      <td>November 2024</td>\n",
       "      <td>5.0</td>\n",
       "      <td>5.0</td>\n",
       "      <td>3.0</td>\n",
       "      <td>3.0</td>\n",
       "      <td>4.0</td>\n",
       "      <td>4.0</td>\n",
       "      <td>4</td>\n",
       "      <td>yes</td>\n",
       "      <td>7.0</td>\n",
       "      <td>Check in was fine, but no priority/fast track...</td>\n",
       "    </tr>\n",
       "    <tr>\n",
       "      <th>3</th>\n",
       "      <td>✅ Trip Verified</td>\n",
       "      <td>NaN</td>\n",
       "      <td>Solo Leisure</td>\n",
       "      <td>Economy Class</td>\n",
       "      <td>London to Amsterdam</td>\n",
       "      <td>December 2024</td>\n",
       "      <td>1.0</td>\n",
       "      <td>1.0</td>\n",
       "      <td>NaN</td>\n",
       "      <td>NaN</td>\n",
       "      <td>NaN</td>\n",
       "      <td>1.0</td>\n",
       "      <td>1</td>\n",
       "      <td>no</td>\n",
       "      <td>1.0</td>\n",
       "      <td>British Airways is absolute rubbish. I had to...</td>\n",
       "    </tr>\n",
       "    <tr>\n",
       "      <th>4</th>\n",
       "      <td>✅ Trip Verified</td>\n",
       "      <td>A320</td>\n",
       "      <td>Solo Leisure</td>\n",
       "      <td>Economy Class</td>\n",
       "      <td>Marrakesh to London</td>\n",
       "      <td>August 2024</td>\n",
       "      <td>2.0</td>\n",
       "      <td>2.0</td>\n",
       "      <td>1.0</td>\n",
       "      <td>1.0</td>\n",
       "      <td>NaN</td>\n",
       "      <td>1.0</td>\n",
       "      <td>1</td>\n",
       "      <td>no</td>\n",
       "      <td>1.0</td>\n",
       "      <td>The flight time was changed at the last minut...</td>\n",
       "    </tr>\n",
       "    <tr>\n",
       "      <th>...</th>\n",
       "      <td>...</td>\n",
       "      <td>...</td>\n",
       "      <td>...</td>\n",
       "      <td>...</td>\n",
       "      <td>...</td>\n",
       "      <td>...</td>\n",
       "      <td>...</td>\n",
       "      <td>...</td>\n",
       "      <td>...</td>\n",
       "      <td>...</td>\n",
       "      <td>...</td>\n",
       "      <td>...</td>\n",
       "      <td>...</td>\n",
       "      <td>...</td>\n",
       "      <td>...</td>\n",
       "      <td>...</td>\n",
       "    </tr>\n",
       "    <tr>\n",
       "      <th>3425</th>\n",
       "      <td>NaN</td>\n",
       "      <td>NaN</td>\n",
       "      <td>NaN</td>\n",
       "      <td>Business Class</td>\n",
       "      <td>NaN</td>\n",
       "      <td>NaN</td>\n",
       "      <td>5.0</td>\n",
       "      <td>5.0</td>\n",
       "      <td>5.0</td>\n",
       "      <td>5.0</td>\n",
       "      <td>NaN</td>\n",
       "      <td>NaN</td>\n",
       "      <td>5</td>\n",
       "      <td>yes</td>\n",
       "      <td>10.0</td>\n",
       "      <td>Austin to London on a 787. Difficult to quite ...</td>\n",
       "    </tr>\n",
       "    <tr>\n",
       "      <th>3426</th>\n",
       "      <td>NaN</td>\n",
       "      <td>NaN</td>\n",
       "      <td>NaN</td>\n",
       "      <td>First Class</td>\n",
       "      <td>NaN</td>\n",
       "      <td>NaN</td>\n",
       "      <td>5.0</td>\n",
       "      <td>5.0</td>\n",
       "      <td>3.0</td>\n",
       "      <td>2.0</td>\n",
       "      <td>NaN</td>\n",
       "      <td>NaN</td>\n",
       "      <td>4</td>\n",
       "      <td>yes</td>\n",
       "      <td>8.0</td>\n",
       "      <td>A very pleasant but flawed flight to Dallas. O...</td>\n",
       "    </tr>\n",
       "    <tr>\n",
       "      <th>3427</th>\n",
       "      <td>NaN</td>\n",
       "      <td>NaN</td>\n",
       "      <td>NaN</td>\n",
       "      <td>Business Class</td>\n",
       "      <td>NaN</td>\n",
       "      <td>NaN</td>\n",
       "      <td>3.0</td>\n",
       "      <td>3.0</td>\n",
       "      <td>1.0</td>\n",
       "      <td>2.0</td>\n",
       "      <td>NaN</td>\n",
       "      <td>NaN</td>\n",
       "      <td>1</td>\n",
       "      <td>no</td>\n",
       "      <td>5.0</td>\n",
       "      <td>LHR-SFO - Club World. I find myself nodding to...</td>\n",
       "    </tr>\n",
       "    <tr>\n",
       "      <th>3428</th>\n",
       "      <td>NaN</td>\n",
       "      <td>NaN</td>\n",
       "      <td>NaN</td>\n",
       "      <td>Business Class</td>\n",
       "      <td>NaN</td>\n",
       "      <td>NaN</td>\n",
       "      <td>4.0</td>\n",
       "      <td>5.0</td>\n",
       "      <td>5.0</td>\n",
       "      <td>3.0</td>\n",
       "      <td>NaN</td>\n",
       "      <td>NaN</td>\n",
       "      <td>5</td>\n",
       "      <td>yes</td>\n",
       "      <td>9.0</td>\n",
       "      <td>Flew LHR-CPH in business class on 23rd Decembe...</td>\n",
       "    </tr>\n",
       "    <tr>\n",
       "      <th>3429</th>\n",
       "      <td>NaN</td>\n",
       "      <td>NaN</td>\n",
       "      <td>NaN</td>\n",
       "      <td>Business Class</td>\n",
       "      <td>NaN</td>\n",
       "      <td>NaN</td>\n",
       "      <td>2.0</td>\n",
       "      <td>2.0</td>\n",
       "      <td>2.0</td>\n",
       "      <td>1.0</td>\n",
       "      <td>NaN</td>\n",
       "      <td>NaN</td>\n",
       "      <td>1</td>\n",
       "      <td>no</td>\n",
       "      <td>1.0</td>\n",
       "      <td>The TV is the worst I have ever experienced an...</td>\n",
       "    </tr>\n",
       "  </tbody>\n",
       "</table>\n",
       "<p>3430 rows × 16 columns</p>\n",
       "</div>"
      ],
      "text/plain": [
       "                status           aircraft   travel_type    travel_class  \\\n",
       "0     ✅ Trip Verified   Boeing 777 / A350      Business  Business Class   \n",
       "1     ✅ Trip Verified          Boeing 777  Solo Leisure  Business Class   \n",
       "2     ✅ Trip Verified          Boeing 787  Solo Leisure     First Class   \n",
       "3     ✅ Trip Verified                 NaN  Solo Leisure   Economy Class   \n",
       "4     ✅ Trip Verified                A320  Solo Leisure   Economy Class   \n",
       "...                ...                ...           ...             ...   \n",
       "3425               NaN                NaN           NaN  Business Class   \n",
       "3426               NaN                NaN           NaN     First Class   \n",
       "3427               NaN                NaN           NaN  Business Class   \n",
       "3428               NaN                NaN           NaN  Business Class   \n",
       "3429               NaN                NaN           NaN  Business Class   \n",
       "\n",
       "                               route           date  seating_comfort  \\\n",
       "0               Washington to London  December 2024              4.0   \n",
       "1                Cape Town to London  December 2024              5.0   \n",
       "2     Mexico City to London Heathrow  November 2024              5.0   \n",
       "3                London to Amsterdam  December 2024              1.0   \n",
       "4                Marrakesh to London    August 2024              2.0   \n",
       "...                              ...            ...              ...   \n",
       "3425                             NaN            NaN              5.0   \n",
       "3426                             NaN            NaN              5.0   \n",
       "3427                             NaN            NaN              3.0   \n",
       "3428                             NaN            NaN              4.0   \n",
       "3429                             NaN            NaN              2.0   \n",
       "\n",
       "      staff_service  food_quality  entertainment  wifi  ground_service  \\\n",
       "0               3.0           1.0            5.0   4.0             1.0   \n",
       "1               5.0           5.0            5.0   NaN             4.0   \n",
       "2               5.0           3.0            3.0   4.0             4.0   \n",
       "3               1.0           NaN            NaN   NaN             1.0   \n",
       "4               2.0           1.0            1.0   NaN             1.0   \n",
       "...             ...           ...            ...   ...             ...   \n",
       "3425            5.0           5.0            5.0   NaN             NaN   \n",
       "3426            5.0           3.0            2.0   NaN             NaN   \n",
       "3427            3.0           1.0            2.0   NaN             NaN   \n",
       "3428            5.0           5.0            3.0   NaN             NaN   \n",
       "3429            2.0           2.0            1.0   NaN             NaN   \n",
       "\n",
       "      value_for_money recommended  overall_rating  \\\n",
       "0                   1          no             2.0   \n",
       "1                   5         yes             8.0   \n",
       "2                   4         yes             7.0   \n",
       "3                   1          no             1.0   \n",
       "4                   1          no             1.0   \n",
       "...               ...         ...             ...   \n",
       "3425                5         yes            10.0   \n",
       "3426                4         yes             8.0   \n",
       "3427                1          no             5.0   \n",
       "3428                5         yes             9.0   \n",
       "3429                1          no             1.0   \n",
       "\n",
       "                                                 review  \n",
       "0        This was the first time I flew British Airw...  \n",
       "1        Pretty good flight but still some small thi...  \n",
       "2      Check in was fine, but no priority/fast track...  \n",
       "3      British Airways is absolute rubbish. I had to...  \n",
       "4      The flight time was changed at the last minut...  \n",
       "...                                                 ...  \n",
       "3425  Austin to London on a 787. Difficult to quite ...  \n",
       "3426  A very pleasant but flawed flight to Dallas. O...  \n",
       "3427  LHR-SFO - Club World. I find myself nodding to...  \n",
       "3428  Flew LHR-CPH in business class on 23rd Decembe...  \n",
       "3429  The TV is the worst I have ever experienced an...  \n",
       "\n",
       "[3430 rows x 16 columns]"
      ]
     },
     "execution_count": 5,
     "metadata": {},
     "output_type": "execute_result"
    }
   ],
   "source": [
    "data = pd.read_csv(\"British_Airways.csv\")\n",
    "data"
   ]
  },
  {
   "cell_type": "markdown",
   "id": "9630b8a3",
   "metadata": {},
   "source": [
    "# DATA CLEANING"
   ]
  },
  {
   "cell_type": "markdown",
   "id": "022bebf1",
   "metadata": {},
   "source": [
    "### 1- DROPPING THE DUPLICATES"
   ]
  },
  {
   "cell_type": "code",
   "execution_count": 6,
   "id": "abca7f26",
   "metadata": {},
   "outputs": [
    {
     "data": {
      "text/plain": [
       "26"
      ]
     },
     "execution_count": 6,
     "metadata": {},
     "output_type": "execute_result"
    }
   ],
   "source": [
    "data.duplicated().sum()"
   ]
  },
  {
   "cell_type": "code",
   "execution_count": 7,
   "id": "623bd9c5-de8d-4c5f-a7bd-bdfcfedcd872",
   "metadata": {},
   "outputs": [],
   "source": [
    "data = data.drop_duplicates()"
   ]
  },
  {
   "cell_type": "code",
   "execution_count": 8,
   "id": "2fac8182-29ee-43b9-872b-139db97d5ad2",
   "metadata": {},
   "outputs": [
    {
     "data": {
      "text/plain": [
       "0"
      ]
     },
     "execution_count": 8,
     "metadata": {},
     "output_type": "execute_result"
    }
   ],
   "source": [
    "data.duplicated().sum()"
   ]
  },
  {
   "cell_type": "markdown",
   "id": "848637c7",
   "metadata": {},
   "source": [
    "### 2- HANDLING NULLS"
   ]
  },
  {
   "cell_type": "code",
   "execution_count": 9,
   "id": "bcede1f7-cbdc-4610-85dd-72ef57a4f47f",
   "metadata": {},
   "outputs": [
    {
     "data": {
      "text/plain": [
       "status             1027\n",
       "aircraft           1373\n",
       "travel_type         276\n",
       "travel_class          2\n",
       "route               281\n",
       "date                283\n",
       "seating_comfort     125\n",
       "staff_service       140\n",
       "food_quality        433\n",
       "entertainment      1233\n",
       "wifi               2718\n",
       "ground_service      355\n",
       "value_for_money       0\n",
       "recommended           0\n",
       "overall_rating        1\n",
       "review                0\n",
       "dtype: int64"
      ]
     },
     "execution_count": 9,
     "metadata": {},
     "output_type": "execute_result"
    }
   ],
   "source": [
    "data.isnull().sum()"
   ]
  },
  {
   "cell_type": "code",
   "execution_count": 10,
   "id": "dc2feaa6-44ac-4c4e-b2c1-d89e78f44837",
   "metadata": {},
   "outputs": [
    {
     "data": {
      "text/html": [
       "<div>\n",
       "<style scoped>\n",
       "    .dataframe tbody tr th:only-of-type {\n",
       "        vertical-align: middle;\n",
       "    }\n",
       "\n",
       "    .dataframe tbody tr th {\n",
       "        vertical-align: top;\n",
       "    }\n",
       "\n",
       "    .dataframe thead th {\n",
       "        text-align: right;\n",
       "    }\n",
       "</style>\n",
       "<table border=\"1\" class=\"dataframe\">\n",
       "  <thead>\n",
       "    <tr style=\"text-align: right;\">\n",
       "      <th></th>\n",
       "      <th>review</th>\n",
       "      <th>travel_type</th>\n",
       "    </tr>\n",
       "  </thead>\n",
       "  <tbody>\n",
       "    <tr>\n",
       "      <th>263</th>\n",
       "      <td>British Airways absolutely does not care. My...</td>\n",
       "      <td>&lt;NA&gt;</td>\n",
       "    </tr>\n",
       "    <tr>\n",
       "      <th>541</th>\n",
       "      <td>Over 1 week ago I cancelled 2 Club Europe fl...</td>\n",
       "      <td>&lt;NA&gt;</td>\n",
       "    </tr>\n",
       "    <tr>\n",
       "      <th>2065</th>\n",
       "      <td>London Heathrow to Chicago in First with Bri...</td>\n",
       "      <td>&lt;NA&gt;</td>\n",
       "    </tr>\n",
       "    <tr>\n",
       "      <th>3133</th>\n",
       "      <td>Travelled from Venice to Gatwick on 28th May c...</td>\n",
       "      <td>Business</td>\n",
       "    </tr>\n",
       "    <tr>\n",
       "      <th>3134</th>\n",
       "      <td>Worst customer experience on BA flight. I have...</td>\n",
       "      <td>Family</td>\n",
       "    </tr>\n",
       "    <tr>\n",
       "      <th>3135</th>\n",
       "      <td>I had this terrible experience of traveling Br...</td>\n",
       "      <td>&lt;NA&gt;</td>\n",
       "    </tr>\n",
       "    <tr>\n",
       "      <th>3136</th>\n",
       "      <td>BA362 6th June 2015. If this were the first fl...</td>\n",
       "      <td>Business</td>\n",
       "    </tr>\n",
       "    <tr>\n",
       "      <th>3137</th>\n",
       "      <td>I flew from Heathrow to Tokyo Haneda in First....</td>\n",
       "      <td>Business</td>\n",
       "    </tr>\n",
       "    <tr>\n",
       "      <th>3138</th>\n",
       "      <td>HER-LGW. Our return flight confirmed our view ...</td>\n",
       "      <td>&lt;NA&gt;</td>\n",
       "    </tr>\n",
       "    <tr>\n",
       "      <th>3139</th>\n",
       "      <td>I'm very disappointed with my BA flight as it ...</td>\n",
       "      <td>&lt;NA&gt;</td>\n",
       "    </tr>\n",
       "  </tbody>\n",
       "</table>\n",
       "</div>"
      ],
      "text/plain": [
       "                                                 review travel_type\n",
       "263     British Airways absolutely does not care. My...        <NA>\n",
       "541     Over 1 week ago I cancelled 2 Club Europe fl...        <NA>\n",
       "2065    London Heathrow to Chicago in First with Bri...        <NA>\n",
       "3133  Travelled from Venice to Gatwick on 28th May c...    Business\n",
       "3134  Worst customer experience on BA flight. I have...      Family\n",
       "3135  I had this terrible experience of traveling Br...        <NA>\n",
       "3136  BA362 6th June 2015. If this were the first fl...    Business\n",
       "3137  I flew from Heathrow to Tokyo Haneda in First....    Business\n",
       "3138  HER-LGW. Our return flight confirmed our view ...        <NA>\n",
       "3139  I'm very disappointed with my BA flight as it ...        <NA>"
      ]
     },
     "execution_count": 10,
     "metadata": {},
     "output_type": "execute_result"
    }
   ],
   "source": [
    "def infer_travel_type(review):\n",
    "    if pd.isna(review):\n",
    "        return pd.NA  \n",
    "    review = review.lower()\n",
    "    if re.search(r'business', review):\n",
    "        return 'Business'\n",
    "    elif re.search(r'leisure', review):\n",
    "        return 'Leisure'\n",
    "    elif re.search(r'family', review):\n",
    "        return 'Family'\n",
    "    elif re.search(r'couple', review):\n",
    "        return 'Couple'\n",
    "    return pd.NA  \n",
    "    \n",
    "missing_travel_type = data['travel_type'].isna()\n",
    "data.loc[missing_travel_type, 'travel_type'] = data.loc[missing_travel_type, 'review'].apply(infer_travel_type)\n",
    "data[missing_travel_type][['review', 'travel_type']].head(10)"
   ]
  },
  {
   "cell_type": "code",
   "execution_count": 11,
   "id": "65ff62cd-3d9c-47e7-af48-90637524435c",
   "metadata": {},
   "outputs": [
    {
     "data": {
      "text/plain": [
       "status             1027\n",
       "aircraft           1373\n",
       "travel_type         190\n",
       "travel_class          2\n",
       "route               281\n",
       "date                283\n",
       "seating_comfort     125\n",
       "staff_service       140\n",
       "food_quality        433\n",
       "entertainment      1233\n",
       "wifi               2718\n",
       "ground_service      355\n",
       "value_for_money       0\n",
       "recommended           0\n",
       "overall_rating        1\n",
       "review                0\n",
       "dtype: int64"
      ]
     },
     "execution_count": 11,
     "metadata": {},
     "output_type": "execute_result"
    }
   ],
   "source": [
    "data.isnull().sum()"
   ]
  },
  {
   "cell_type": "code",
   "execution_count": 12,
   "id": "eaad37a6-15cd-4e8f-aae1-3042c05fb96b",
   "metadata": {},
   "outputs": [],
   "source": [
    "data = data.dropna(subset=['travel_type'])"
   ]
  },
  {
   "cell_type": "code",
   "execution_count": 13,
   "id": "eb9659a7-ba1a-4c66-b000-4af0303131cd",
   "metadata": {},
   "outputs": [
    {
     "data": {
      "text/plain": [
       "status              840\n",
       "aircraft           1184\n",
       "travel_type           0\n",
       "travel_class          2\n",
       "route                94\n",
       "date                 96\n",
       "seating_comfort     124\n",
       "staff_service       139\n",
       "food_quality        432\n",
       "entertainment      1232\n",
       "wifi               2528\n",
       "ground_service      167\n",
       "value_for_money       0\n",
       "recommended           0\n",
       "overall_rating        0\n",
       "review                0\n",
       "dtype: int64"
      ]
     },
     "execution_count": 13,
     "metadata": {},
     "output_type": "execute_result"
    }
   ],
   "source": [
    "data.isnull().sum()"
   ]
  },
  {
   "cell_type": "code",
   "execution_count": 14,
   "id": "62b5d543-378d-41ea-9391-b259da5e9988",
   "metadata": {},
   "outputs": [],
   "source": [
    "def extract_aircraft(text, aircraft_lookup):\n",
    "    aircraft_match = re.search(r'((?:boeing|airbus|embraer|a)\\s*\\d{3,4}(?:-\\d{1,3})?(?:\\s*er)?)', text, re.IGNORECASE)\n",
    "    if aircraft_match:\n",
    "        extracted_aircraft = aircraft_match.group(0).upper()\n",
    "        if extracted_aircraft in [air.upper() for air in aircraft_lookup]:\n",
    "            return aircraft_lookup[[air.upper() for air in aircraft_lookup].index(extracted_aircraft)]\n",
    "        else :\n",
    "            return extracted_aircraft\n",
    "\n",
    "    return None"
   ]
  },
  {
   "cell_type": "code",
   "execution_count": 15,
   "id": "c849e72e-a57e-4358-ac6d-04c40981cec4",
   "metadata": {},
   "outputs": [
    {
     "data": {
      "text/plain": [
       "status              840\n",
       "aircraft           1184\n",
       "travel_type           0\n",
       "travel_class          2\n",
       "route                94\n",
       "date                 96\n",
       "seating_comfort     124\n",
       "staff_service       139\n",
       "food_quality        432\n",
       "entertainment      1232\n",
       "wifi               2528\n",
       "ground_service      167\n",
       "value_for_money       0\n",
       "recommended           0\n",
       "overall_rating        0\n",
       "review                0\n",
       "dtype: int64"
      ]
     },
     "execution_count": 15,
     "metadata": {},
     "output_type": "execute_result"
    }
   ],
   "source": [
    "data.isnull().sum() "
   ]
  },
  {
   "cell_type": "code",
   "execution_count": 16,
   "id": "aecadd15-5d4b-4e69-a741-f24e7cbb2ed4",
   "metadata": {},
   "outputs": [
    {
     "data": {
      "text/html": [
       "<div>\n",
       "<style scoped>\n",
       "    .dataframe tbody tr th:only-of-type {\n",
       "        vertical-align: middle;\n",
       "    }\n",
       "\n",
       "    .dataframe tbody tr th {\n",
       "        vertical-align: top;\n",
       "    }\n",
       "\n",
       "    .dataframe thead th {\n",
       "        text-align: right;\n",
       "    }\n",
       "</style>\n",
       "<table border=\"1\" class=\"dataframe\">\n",
       "  <thead>\n",
       "    <tr style=\"text-align: right;\">\n",
       "      <th></th>\n",
       "      <th>review</th>\n",
       "      <th>travel_class</th>\n",
       "    </tr>\n",
       "  </thead>\n",
       "  <tbody>\n",
       "    <tr>\n",
       "      <th>3111</th>\n",
       "      <td>Overall good experience. BA owns Vueling/Iberi...</td>\n",
       "      <td>&lt;NA&gt;</td>\n",
       "    </tr>\n",
       "    <tr>\n",
       "      <th>3154</th>\n",
       "      <td>Club World: Just flown London Gatwick to Las V...</td>\n",
       "      <td>Business Class</td>\n",
       "    </tr>\n",
       "  </tbody>\n",
       "</table>\n",
       "</div>"
      ],
      "text/plain": [
       "                                                 review    travel_class\n",
       "3111  Overall good experience. BA owns Vueling/Iberi...            <NA>\n",
       "3154  Club World: Just flown London Gatwick to Las V...  Business Class"
      ]
     },
     "execution_count": 16,
     "metadata": {},
     "output_type": "execute_result"
    }
   ],
   "source": [
    "def infer_travel_class(review):\n",
    "    if pd.isna(review):\n",
    "        return pd.NA  \n",
    "    review = review.lower()\n",
    "    if re.search(r'first', review):\n",
    "        return 'First Class'\n",
    "    elif re.search(r'business', review):\n",
    "        return 'Business Class'\n",
    "    elif re.search(r'economy', review):\n",
    "        return 'Economy Class'\n",
    "    elif re.search(r'premium', review):\n",
    "        return 'Premium Economy'\n",
    "    return pd.NA  \n",
    "\n",
    "missing_travel_class = data['travel_class'].isna()\n",
    "data.loc[missing_travel_class, 'travel_class'] = data.loc[missing_travel_class, 'review'].apply(infer_travel_class)\n",
    "data[missing_travel_class][['review', 'travel_class']].head(10)\n"
   ]
  },
  {
   "cell_type": "code",
   "execution_count": 17,
   "id": "8cbfb663-9161-4f37-b281-885b2cc27ccd",
   "metadata": {},
   "outputs": [
    {
     "data": {
      "text/plain": [
       "status              840\n",
       "aircraft           1184\n",
       "travel_type           0\n",
       "travel_class          1\n",
       "route                94\n",
       "date                 96\n",
       "seating_comfort     124\n",
       "staff_service       139\n",
       "food_quality        432\n",
       "entertainment      1232\n",
       "wifi               2528\n",
       "ground_service      167\n",
       "value_for_money       0\n",
       "recommended           0\n",
       "overall_rating        0\n",
       "review                0\n",
       "dtype: int64"
      ]
     },
     "execution_count": 17,
     "metadata": {},
     "output_type": "execute_result"
    }
   ],
   "source": [
    "data.isnull().sum()"
   ]
  },
  {
   "cell_type": "code",
   "execution_count": 18,
   "id": "4f43f2f3-a4c0-4f63-92dc-e543d0922968",
   "metadata": {},
   "outputs": [],
   "source": [
    "data = data.dropna(subset=['travel_class'])"
   ]
  },
  {
   "cell_type": "code",
   "execution_count": 19,
   "id": "88f1639a-6501-45a5-90e6-55686bf03aef",
   "metadata": {},
   "outputs": [
    {
     "data": {
      "text/plain": [
       "status              839\n",
       "aircraft           1183\n",
       "travel_type           0\n",
       "travel_class          0\n",
       "route                94\n",
       "date                 96\n",
       "seating_comfort     124\n",
       "staff_service       139\n",
       "food_quality        432\n",
       "entertainment      1232\n",
       "wifi               2528\n",
       "ground_service      167\n",
       "value_for_money       0\n",
       "recommended           0\n",
       "overall_rating        0\n",
       "review                0\n",
       "dtype: int64"
      ]
     },
     "execution_count": 19,
     "metadata": {},
     "output_type": "execute_result"
    }
   ],
   "source": [
    "data.isnull().sum()"
   ]
  },
  {
   "cell_type": "code",
   "execution_count": 20,
   "id": "73d0c003-aa4e-4288-aaa0-54f6dfb2dcf8",
   "metadata": {},
   "outputs": [
    {
     "data": {
      "text/html": [
       "<div>\n",
       "<style scoped>\n",
       "    .dataframe tbody tr th:only-of-type {\n",
       "        vertical-align: middle;\n",
       "    }\n",
       "\n",
       "    .dataframe tbody tr th {\n",
       "        vertical-align: top;\n",
       "    }\n",
       "\n",
       "    .dataframe thead th {\n",
       "        text-align: right;\n",
       "    }\n",
       "</style>\n",
       "<table border=\"1\" class=\"dataframe\">\n",
       "  <thead>\n",
       "    <tr style=\"text-align: right;\">\n",
       "      <th></th>\n",
       "      <th>review</th>\n",
       "      <th>route</th>\n",
       "    </tr>\n",
       "  </thead>\n",
       "  <tbody>\n",
       "    <tr>\n",
       "      <th>59</th>\n",
       "      <td>The customer service is one of the worst I h...</td>\n",
       "      <td>london to zurich</td>\n",
       "    </tr>\n",
       "    <tr>\n",
       "      <th>359</th>\n",
       "      <td>I booked business class tickets for my fianc...</td>\n",
       "      <td>&lt;NA&gt;</td>\n",
       "    </tr>\n",
       "    <tr>\n",
       "      <th>551</th>\n",
       "      <td>Second time getting poor service from BA. 1s...</td>\n",
       "      <td>&lt;NA&gt;</td>\n",
       "    </tr>\n",
       "    <tr>\n",
       "      <th>736</th>\n",
       "      <td>Booked flight six months before travel, then...</td>\n",
       "      <td>&lt;NA&gt;</td>\n",
       "    </tr>\n",
       "    <tr>\n",
       "      <th>2869</th>\n",
       "      <td>My issue is the very poor British Airways cust...</td>\n",
       "      <td>&lt;NA&gt;</td>\n",
       "    </tr>\n",
       "  </tbody>\n",
       "</table>\n",
       "</div>"
      ],
      "text/plain": [
       "                                                 review             route\n",
       "59      The customer service is one of the worst I h...  london to zurich\n",
       "359     I booked business class tickets for my fianc...              <NA>\n",
       "551     Second time getting poor service from BA. 1s...              <NA>\n",
       "736     Booked flight six months before travel, then...              <NA>\n",
       "2869  My issue is the very poor British Airways cust...              <NA>"
      ]
     },
     "execution_count": 20,
     "metadata": {},
     "output_type": "execute_result"
    }
   ],
   "source": [
    "def infer_route(review):\n",
    "    if pd.isna(review):\n",
    "        return pd.NA \n",
    "    review = review.lower()\n",
    "    match = re.search(r'from ([a-zA-Z ]+) to ([a-zA-Z ]+)', review)\n",
    "    if match:\n",
    "        return f\"{match.group(1).strip()} to {match.group(2).strip()}\"\n",
    "    return pd.NA\n",
    "\n",
    "missing_route = data['route'].isna()\n",
    "data.loc[missing_route, 'route'] = data.loc[missing_route, 'review'].apply(infer_route)\n",
    "data[missing_route][['review', 'route']].head()"
   ]
  },
  {
   "cell_type": "code",
   "execution_count": 21,
   "id": "ea755cef-80e3-425e-a09e-0c154d0b7e32",
   "metadata": {},
   "outputs": [
    {
     "data": {
      "text/plain": [
       "status              839\n",
       "aircraft           1183\n",
       "travel_type           0\n",
       "travel_class          0\n",
       "route                71\n",
       "date                 96\n",
       "seating_comfort     124\n",
       "staff_service       139\n",
       "food_quality        432\n",
       "entertainment      1232\n",
       "wifi               2528\n",
       "ground_service      167\n",
       "value_for_money       0\n",
       "recommended           0\n",
       "overall_rating        0\n",
       "review                0\n",
       "dtype: int64"
      ]
     },
     "execution_count": 21,
     "metadata": {},
     "output_type": "execute_result"
    }
   ],
   "source": [
    "data.isnull().sum()"
   ]
  },
  {
   "cell_type": "code",
   "execution_count": 22,
   "id": "3d46548c-0114-4126-9bde-d444e091a481",
   "metadata": {},
   "outputs": [
    {
     "data": {
      "text/html": [
       "<div>\n",
       "<style scoped>\n",
       "    .dataframe tbody tr th:only-of-type {\n",
       "        vertical-align: middle;\n",
       "    }\n",
       "\n",
       "    .dataframe tbody tr th {\n",
       "        vertical-align: top;\n",
       "    }\n",
       "\n",
       "    .dataframe thead th {\n",
       "        text-align: right;\n",
       "    }\n",
       "</style>\n",
       "<table border=\"1\" class=\"dataframe\">\n",
       "  <thead>\n",
       "    <tr style=\"text-align: right;\">\n",
       "      <th></th>\n",
       "      <th>review</th>\n",
       "      <th>date</th>\n",
       "    </tr>\n",
       "  </thead>\n",
       "  <tbody>\n",
       "    <tr>\n",
       "      <th>3046</th>\n",
       "      <td>Day trip to Vienna, used BA Economy as their B...</td>\n",
       "      <td>&lt;NA&gt;</td>\n",
       "    </tr>\n",
       "    <tr>\n",
       "      <th>3124</th>\n",
       "      <td>FRA-LHR on A319, We sat on the plane at the ga...</td>\n",
       "      <td>&lt;NA&gt;</td>\n",
       "    </tr>\n",
       "    <tr>\n",
       "      <th>3125</th>\n",
       "      <td>Flew Club World from Gatwick to Barbados in Ap...</td>\n",
       "      <td>&lt;NA&gt;</td>\n",
       "    </tr>\n",
       "    <tr>\n",
       "      <th>3126</th>\n",
       "      <td>Flew from Kiev to London on their Airbus 319 i...</td>\n",
       "      <td>&lt;NA&gt;</td>\n",
       "    </tr>\n",
       "    <tr>\n",
       "      <th>3127</th>\n",
       "      <td>This is more of a general review having travel...</td>\n",
       "      <td>&lt;NA&gt;</td>\n",
       "    </tr>\n",
       "  </tbody>\n",
       "</table>\n",
       "</div>"
      ],
      "text/plain": [
       "                                                 review  date\n",
       "3046  Day trip to Vienna, used BA Economy as their B...  <NA>\n",
       "3124  FRA-LHR on A319, We sat on the plane at the ga...  <NA>\n",
       "3125  Flew Club World from Gatwick to Barbados in Ap...  <NA>\n",
       "3126  Flew from Kiev to London on their Airbus 319 i...  <NA>\n",
       "3127  This is more of a general review having travel...  <NA>"
      ]
     },
     "execution_count": 22,
     "metadata": {},
     "output_type": "execute_result"
    }
   ],
   "source": [
    "def infer_date(review):\n",
    "    if pd.isna(review):\n",
    "        return pd.NA  \n",
    "    review = review.lower()\n",
    "    date_patterns = [\n",
    "        r'\\b(?:january|february|march|april|may|june|july|august|september|october|november|december) \\d{4}\\b', \n",
    "        r'\\b\\d{1,2}/\\d{1,2}/\\d{2,4}\\b',\n",
    "        r'\\b\\d{4}-\\d{2}-\\d{2}\\b',\n",
    "    ]\n",
    "    \n",
    "    for pattern in date_patterns:\n",
    "        match = re.search(pattern, review)\n",
    "        if match:\n",
    "            return match.group(0)  \n",
    "    return pd.NA  \n",
    "\n",
    "missing_date = data['date'].isna()\n",
    "data.loc[missing_date, 'date'] = data.loc[missing_date, 'review'].apply(infer_date)\n",
    "updated_dates = data[missing_date][['review', 'date']]\n",
    "updated_dates.head()"
   ]
  },
  {
   "cell_type": "code",
   "execution_count": 23,
   "id": "8cf4284f-9df5-4126-aa31-19599d2ec0f0",
   "metadata": {},
   "outputs": [
    {
     "data": {
      "text/plain": [
       "status              839\n",
       "aircraft           1183\n",
       "travel_type           0\n",
       "travel_class          0\n",
       "route                71\n",
       "date                 87\n",
       "seating_comfort     124\n",
       "staff_service       139\n",
       "food_quality        432\n",
       "entertainment      1232\n",
       "wifi               2528\n",
       "ground_service      167\n",
       "value_for_money       0\n",
       "recommended           0\n",
       "overall_rating        0\n",
       "review                0\n",
       "dtype: int64"
      ]
     },
     "execution_count": 23,
     "metadata": {},
     "output_type": "execute_result"
    }
   ],
   "source": [
    "data.isnull().sum()"
   ]
  },
  {
   "cell_type": "code",
   "execution_count": 24,
   "id": "caf29110-fed2-4eee-ae03-1d5ddf78569a",
   "metadata": {},
   "outputs": [],
   "source": [
    "data = data.dropna(subset=['date'])"
   ]
  },
  {
   "cell_type": "code",
   "execution_count": 25,
   "id": "67e6b6c0-8ae6-4670-8125-a8a749655851",
   "metadata": {},
   "outputs": [
    {
     "data": {
      "text/plain": [
       "status              752\n",
       "aircraft           1103\n",
       "travel_type           0\n",
       "travel_class          0\n",
       "route                12\n",
       "date                  0\n",
       "seating_comfort     124\n",
       "staff_service       139\n",
       "food_quality        431\n",
       "entertainment      1231\n",
       "wifi               2442\n",
       "ground_service       81\n",
       "value_for_money       0\n",
       "recommended           0\n",
       "overall_rating        0\n",
       "review                0\n",
       "dtype: int64"
      ]
     },
     "execution_count": 25,
     "metadata": {},
     "output_type": "execute_result"
    }
   ],
   "source": [
    "data.isnull().sum()"
   ]
  },
  {
   "cell_type": "code",
   "execution_count": 26,
   "id": "46f4dc19-17f7-4e8e-8e72-52668f185412",
   "metadata": {},
   "outputs": [],
   "source": [
    "data = data.dropna(subset=['route'])"
   ]
  },
  {
   "cell_type": "code",
   "execution_count": 27,
   "id": "4d6b8037-2b4c-415d-a728-fc0f35aaf4a0",
   "metadata": {},
   "outputs": [
    {
     "data": {
      "text/plain": [
       "status              743\n",
       "aircraft           1091\n",
       "travel_type           0\n",
       "travel_class          0\n",
       "route                 0\n",
       "date                  0\n",
       "seating_comfort     122\n",
       "staff_service       137\n",
       "food_quality        429\n",
       "entertainment      1229\n",
       "wifi               2431\n",
       "ground_service       71\n",
       "value_for_money       0\n",
       "recommended           0\n",
       "overall_rating        0\n",
       "review                0\n",
       "dtype: int64"
      ]
     },
     "execution_count": 27,
     "metadata": {},
     "output_type": "execute_result"
    }
   ],
   "source": [
    "data.isnull().sum()"
   ]
  },
  {
   "cell_type": "code",
   "execution_count": 28,
   "id": "6f8e86f6-bdd6-4735-8b34-1d2bb91db34c",
   "metadata": {},
   "outputs": [
    {
     "name": "stdout",
     "output_type": "stream",
     "text": [
      "status      0\n",
      "aircraft    0\n",
      "dtype: int64\n"
     ]
    }
   ],
   "source": [
    "data['status'] = data['status'].fillna('Unknown')\n",
    "data['aircraft'] = data['aircraft'].fillna('Unknown')\n",
    "print(data[['status', 'aircraft']].isnull().sum())"
   ]
  },
  {
   "cell_type": "code",
   "execution_count": 29,
   "id": "05f382f2-ddf5-4b25-8967-51d782418cc0",
   "metadata": {},
   "outputs": [
    {
     "data": {
      "text/plain": [
       "status                0\n",
       "aircraft              0\n",
       "travel_type           0\n",
       "travel_class          0\n",
       "route                 0\n",
       "date                  0\n",
       "seating_comfort     122\n",
       "staff_service       137\n",
       "food_quality        429\n",
       "entertainment      1229\n",
       "wifi               2431\n",
       "ground_service       71\n",
       "value_for_money       0\n",
       "recommended           0\n",
       "overall_rating        0\n",
       "review                0\n",
       "dtype: int64"
      ]
     },
     "execution_count": 29,
     "metadata": {},
     "output_type": "execute_result"
    }
   ],
   "source": [
    "data.isnull().sum()"
   ]
  },
  {
   "cell_type": "code",
   "execution_count": 30,
   "id": "00aabbf3-ed77-4426-a300-bdf54ba990cc",
   "metadata": {},
   "outputs": [
    {
     "name": "stdout",
     "output_type": "stream",
     "text": [
      "seating_comfort    0\n",
      "staff_service      0\n",
      "food_quality       0\n",
      "entertainment      0\n",
      "wifi               0\n",
      "ground_service     0\n",
      "dtype: int64\n"
     ]
    }
   ],
   "source": [
    "numerical_columns = [\n",
    "    'seating_comfort', \n",
    "    'staff_service', \n",
    "    'food_quality', \n",
    "    'entertainment', \n",
    "    'wifi', \n",
    "    'ground_service'\n",
    "]\n",
    "\n",
    "knn_imputer = KNNImputer(n_neighbors=5, weights=\"uniform\")\n",
    "\n",
    "data[numerical_columns] = knn_imputer.fit_transform(data[numerical_columns])\n",
    "\n",
    "print(data[numerical_columns].isnull().sum())"
   ]
  },
  {
   "cell_type": "code",
   "execution_count": 31,
   "id": "1a858402-14b0-476c-bc1d-5cebb14c1a22",
   "metadata": {},
   "outputs": [
    {
     "data": {
      "text/plain": [
       "status             0\n",
       "aircraft           0\n",
       "travel_type        0\n",
       "travel_class       0\n",
       "route              0\n",
       "date               0\n",
       "seating_comfort    0\n",
       "staff_service      0\n",
       "food_quality       0\n",
       "entertainment      0\n",
       "wifi               0\n",
       "ground_service     0\n",
       "value_for_money    0\n",
       "recommended        0\n",
       "overall_rating     0\n",
       "review             0\n",
       "dtype: int64"
      ]
     },
     "execution_count": 31,
     "metadata": {},
     "output_type": "execute_result"
    }
   ],
   "source": [
    "data.isnull().sum()"
   ]
  },
  {
   "cell_type": "code",
   "execution_count": 32,
   "id": "f1414b29",
   "metadata": {},
   "outputs": [
    {
     "name": "stdout",
     "output_type": "stream",
     "text": [
      "<class 'pandas.core.frame.DataFrame'>\n",
      "Index: 3114 entries, 0 to 3238\n",
      "Data columns (total 16 columns):\n",
      " #   Column           Non-Null Count  Dtype  \n",
      "---  ------           --------------  -----  \n",
      " 0   status           3114 non-null   object \n",
      " 1   aircraft         3114 non-null   object \n",
      " 2   travel_type      3114 non-null   object \n",
      " 3   travel_class     3114 non-null   object \n",
      " 4   route            3114 non-null   object \n",
      " 5   date             3114 non-null   object \n",
      " 6   seating_comfort  3114 non-null   float64\n",
      " 7   staff_service    3114 non-null   float64\n",
      " 8   food_quality     3114 non-null   float64\n",
      " 9   entertainment    3114 non-null   float64\n",
      " 10  wifi             3114 non-null   float64\n",
      " 11  ground_service   3114 non-null   float64\n",
      " 12  value_for_money  3114 non-null   int64  \n",
      " 13  recommended      3114 non-null   object \n",
      " 14  overall_rating   3114 non-null   float64\n",
      " 15  review           3114 non-null   object \n",
      "dtypes: float64(7), int64(1), object(8)\n",
      "memory usage: 413.6+ KB\n"
     ]
    }
   ],
   "source": [
    "data.info()"
   ]
  },
  {
   "cell_type": "markdown",
   "id": "8598acdd",
   "metadata": {},
   "source": [
    "# 3- MACHINE LEARNING MODELS"
   ]
  },
  {
   "cell_type": "code",
   "execution_count": 33,
   "id": "1a6c2199",
   "metadata": {},
   "outputs": [
    {
     "data": {
      "text/plain": [
       "Index(['status', 'aircraft', 'travel_type', 'travel_class', 'route', 'date',\n",
       "       'seating_comfort', 'staff_service', 'food_quality', 'entertainment',\n",
       "       'wifi', 'ground_service', 'value_for_money', 'recommended',\n",
       "       'overall_rating', 'review'],\n",
       "      dtype='object')"
      ]
     },
     "execution_count": 33,
     "metadata": {},
     "output_type": "execute_result"
    }
   ],
   "source": [
    "data.columns"
   ]
  },
  {
   "cell_type": "code",
   "execution_count": 34,
   "id": "dda24504",
   "metadata": {},
   "outputs": [],
   "source": [
    "# KNN \n",
    "# DECISION TREE\n",
    "# SVM\n",
    "# NAIVE "
   ]
  }
 ],
 "metadata": {
  "kernelspec": {
   "display_name": "Python 3",
   "language": "python",
   "name": "python3"
  },
  "language_info": {
   "codemirror_mode": {
    "name": "ipython",
    "version": 3
   },
   "file_extension": ".py",
   "mimetype": "text/x-python",
   "name": "python",
   "nbconvert_exporter": "python",
   "pygments_lexer": "ipython3",
   "version": "3.12.2"
  }
 },
 "nbformat": 4,
 "nbformat_minor": 5
}
